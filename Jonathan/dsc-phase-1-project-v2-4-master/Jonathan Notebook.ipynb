{
 "cells": [
  {
   "cell_type": "code",
   "execution_count": 162,
   "metadata": {},
   "outputs": [],
   "source": [
    "import sqlite3\n",
    "import pandas as pd\n",
    "import numpy as np\n",
    "import datetime\n",
    "import cpi\n",
    "import seaborn as sns\n",
    "import matplotlib.pyplot as plt\n",
    "pd.options.display.max_columns = 50\n",
    "\n",
    "conn = sqlite3.connect('data\\im.db')"
   ]
  },
  {
   "cell_type": "code",
   "execution_count": 163,
   "metadata": {},
   "outputs": [],
   "source": [
    "df = pd.read_sql_query(\"SELECT name FROM sqlite_master WHERE type='table';\", conn)\n",
    "table_names = df['name'].values\n",
    "\n",
    "movie_basics = pd.read_sql_query(\"SELECT * FROM movie_basics\", conn)\n",
    "directors = pd.read_sql_query(\"SELECT * FROM directors\", conn)\n",
    "known_for = pd.read_sql_query(\"SELECT * FROM known_for\", conn)\n",
    "movie_akas = pd.read_sql_query(\"SELECT * FROM movie_akas\", conn)\n",
    "movie_ratings = pd.read_sql_query(\"SELECT * FROM movie_ratings\", conn)\n",
    "persons = pd.read_sql_query(\"SELECT * FROM persons\", conn)\n",
    "principals = pd.read_sql_query(\"SELECT * FROM principals\", conn)\n",
    "writers = pd.read_sql_query(\"SELECT * FROM writers\", conn)\n"
   ]
  },
  {
   "cell_type": "code",
   "execution_count": null,
   "metadata": {},
   "outputs": [],
   "source": [
    "info = pd.read_csv(\"data/rt.movie_info.tsv\", sep='\\t',header=0, encoding='ISO-8859-1')\n",
    "reviews = pd.read_csv(\"data/rt.reviews.tsv\", sep='\\t',header=0, encoding='ISO-8859-1')\n",
    "gross = pd.read_csv(\"data/bom.movie_gross.csv\",header=0, encoding='ISO-8859-1') \n",
    "movies = pd.read_csv(\"data/tmdb.movies.csv\",header=0, encoding='ISO-8859-1') \n",
    "budget = pd.read_csv(\"data/tn.movie_budgets.csv\",header=0, encoding='ISO-8859-1') \n"
   ]
  },
  {
   "cell_type": "code",
   "execution_count": null,
   "metadata": {},
   "outputs": [],
   "source": [
    "gross['foreign_gross'] = gross['foreign_gross'].fillna(0)\n",
    "gross['foreign_gross'] = pd.to_numeric(gross['foreign_gross'], errors='coerce')\n",
    "gross['gross'] = gross['foreign_gross'] + gross['domestic_gross']"
   ]
  },
  {
   "cell_type": "code",
   "execution_count": null,
   "metadata": {},
   "outputs": [],
   "source": [
    "# create new column in first dataframe that extracts the year from release_date\n",
    "movies['theater_date'] = pd.to_datetime(movies['release_date']).dt.year\n",
    "\n",
    "# merge the two dataframes on original_title and theater_date\n",
    "merged_movies = pd.merge(movies, movie_basics, left_on=['original_title', 'theater_date'], right_on=['original_title', 'start_year'])"
   ]
  },
  {
   "cell_type": "code",
   "execution_count": null,
   "metadata": {},
   "outputs": [],
   "source": [
    "merged_movies = merged_movies.drop_duplicates(subset='title', keep=False)"
   ]
  },
  {
   "cell_type": "code",
   "execution_count": null,
   "metadata": {},
   "outputs": [],
   "source": [
    "movies_gross = pd.merge(merged_movies, budget, left_on='title', right_on='movie')"
   ]
  },
  {
   "cell_type": "code",
   "execution_count": null,
   "metadata": {},
   "outputs": [],
   "source": [
    "movies_gross['worldwide_gross_int'] = movies_gross['worldwide_gross'].apply(lambda x: int(x.replace(\",\", \"\").replace(\"$\", \"\")))\n",
    "movies_gross['production_budget_int'] = movies_gross['production_budget'].apply(lambda x: int(x.replace(\",\", \"\").replace(\"$\", \"\")))"
   ]
  },
  {
   "cell_type": "code",
   "execution_count": null,
   "metadata": {},
   "outputs": [],
   "source": [
    "movies_gross['profit'] =  (movies_gross['worldwide_gross_int'] - movies_gross['production_budget_int'])"
   ]
  },
  {
   "cell_type": "code",
   "execution_count": null,
   "metadata": {},
   "outputs": [],
   "source": [
    "movies_gross['release_date_x'] = pd.to_datetime(movies_gross['release_date_x'])"
   ]
  },
  {
   "cell_type": "code",
   "execution_count": null,
   "metadata": {},
   "outputs": [],
   "source": [
    "movies_gross['profit_adjusted'] = movies_gross.apply(lambda row: cpi.inflate(row['profit'],row['release_date_x'].year), axis=1)"
   ]
  },
  {
   "cell_type": "code",
   "execution_count": null,
   "metadata": {},
   "outputs": [],
   "source": [
    "movies_gross = movies_gross.dropna(subset=['genres'])\n",
    "movies_gross = movies_gross.drop_duplicates(subset='title')\n",
    "movies_gross = movies_gross[movies_gross['profit'] <= 1000000000]"
   ]
  },
  {
   "cell_type": "code",
   "execution_count": null,
   "metadata": {},
   "outputs": [],
   "source": [
    "\n",
    "movies_gross_negative = movies_gross[movies_gross['profit'] < 0]\n",
    "movies_gross_positive = movies_gross[movies_gross['profit'] > 0]"
   ]
  },
  {
   "cell_type": "code",
   "execution_count": null,
   "metadata": {},
   "outputs": [],
   "source": [
    "movies_gross_positive = movies_gross_positive.assign(genres = movies_gross_positive['genres'].str.split(','))\n",
    "movies_gross_positive = movies_gross_positive.explode('genres')\n",
    "movies_gross_negative = movies_gross_negative.assign(genres = movies_gross_negative['genres'].str.split(','))\n",
    "movies_gross_negative = movies_gross_negative.explode('genres')\n",
    "\n",
    "profit_by_genre = movies_gross_positive.groupby('genres')['profit_adjusted'].sum().reset_index()\n",
    "max_by_genre = movies_gross_positive.groupby('genres')['profit_adjusted'].max().reset_index()\n",
    "Mean_by_genre_pos = movies_gross_positive.groupby('genres')['profit_adjusted'].mean().reset_index()\n",
    "Mean_by_genre_neg = movies_gross_negative.groupby('genres')['profit_adjusted'].mean().reset_index()\n",
    "count_by_genre = movies_gross_positive.groupby('genres')['profit_adjusted'].count().reset_index()\n"
   ]
  },
  {
   "cell_type": "code",
   "execution_count": null,
   "metadata": {},
   "outputs": [],
   "source": [
    "import matplotlib.ticker as ticker\n",
    "\n",
    "Mean_by_genre_pos = Mean_by_genre_pos.sort_values(by='profit_adjusted',ascending=False)\n",
    "fig, ax = plt.subplots(figsize=(24,12))\n",
    "sns.barplot(x='genres', y='profit_adjusted', data=Mean_by_genre_pos, ax=ax)\n",
    "\n",
    "formatter = ticker.FuncFormatter(lambda x, pos: '$%1.1fB' % (x * 1e-9))\n",
    "ax.yaxis.set_major_formatter(formatter)\n",
    "ax.set_xlabel(\"Genres\", size=12)\n",
    "ax.set_ylabel(\"Total Profit Adjusted (USD)\", size=12)\n",
    "ax.set_title(\"Average Profitiability of Movies by Genre (Adjusted for Inflation)\", size=15)\n",
    "ax.set_xticklabels(ax.get_xticklabels(), rotation=45)\n",
    "\n",
    "plt.savefig('mean_by_genre_pos.jpg', format='jpg')"
   ]
  },
  {
   "cell_type": "code",
   "execution_count": null,
   "metadata": {},
   "outputs": [],
   "source": [
    "import matplotlib.ticker as ticker\n",
    "\n",
    "Mean_by_genre_neg = Mean_by_genre_neg.sort_values(by='profit_adjusted',ascending=False)\n",
    "fig, ax = plt.subplots(figsize=(24,12))\n",
    "sns.barplot(x='genres', y='profit_adjusted', data=Mean_by_genre_neg, ax=ax)\n",
    "\n",
    "formatter = ticker.FuncFormatter(lambda x, pos: '$%1.1fB' % (x * 1e-9))\n",
    "ax.yaxis.set_major_formatter(formatter)\n",
    "ax.set_xlabel(\"Genres\", size=12)\n",
    "ax.set_ylabel(\"Total Profit Adjusted (USD)\", size=12)\n",
    "ax.set_title(\"Average Loss of Movies by Genre (Adjusted for Inflation)\", size=15)\n",
    "ax.set_xticklabels(ax.get_xticklabels(), rotation=45)\n",
    "\n",
    "plt.savefig('mean_by_genre_neg.jpg', format='jpg')"
   ]
  },
  {
   "cell_type": "code",
   "execution_count": null,
   "metadata": {},
   "outputs": [],
   "source": [
    "import matplotlib.ticker as ticker\n",
    "\n",
    "max_by_genre = max_by_genre.sort_values(by='profit_adjusted',ascending=False)\n",
    "fig, ax = plt.subplots(figsize=(24,12))\n",
    "sns.barplot(x='genres', y='profit_adjusted', data=max_by_genre, ax=ax)\n",
    "\n",
    "formatter = ticker.FuncFormatter(lambda x, pos: '$%1.1fB' % (x * 1e-9))\n",
    "ax.yaxis.set_major_formatter(formatter)\n",
    "ax.set_xlabel(\"Genres\", size=12)\n",
    "ax.set_ylabel(\"Total Profit Adjusted (USD)\", size=12)\n",
    "ax.set_title(\"Most Profitiable Movie by Genre (Adjusted for Inflation)\", size=15)\n",
    "ax.set_xticklabels(ax.get_xticklabels(), rotation=45)\n",
    "\n",
    "plt.savefig('max_by_genre.jpg', format='jpg')"
   ]
  },
  {
   "cell_type": "code",
   "execution_count": null,
   "metadata": {},
   "outputs": [],
   "source": [
    "import matplotlib.ticker as ticker\n",
    "\n",
    "profit_by_genre = profit_by_genre.sort_values(by='profit_adjusted',ascending=False)\n",
    "fig, ax = plt.subplots(figsize=(24,12))\n",
    "sns.barplot(x='genres', y='profit_adjusted', data=profit_by_genre, ax=ax)\n",
    "\n",
    "formatter = ticker.FuncFormatter(lambda x, pos: '$%1.1fB' % (x * 1e-9))\n",
    "ax.yaxis.set_major_formatter(formatter)\n",
    "ax.set_xlabel(\"Genres\", size=12)\n",
    "ax.set_ylabel(\"Total Profit Adjusted (USD)\", size=12)\n",
    "ax.set_title(\"Total Worldwide Profit by Genres (Adjusted for Inflation)\", size=15)\n",
    "ax.set_xticklabels(ax.get_xticklabels(), rotation=45)\n",
    "\n",
    "plt.savefig('profit_by_genre.jpg', format='jpg')"
   ]
  },
  {
   "cell_type": "code",
   "execution_count": null,
   "metadata": {},
   "outputs": [],
   "source": [
    "movies_gross_negative = movies_gross_negative.assign(genres = movies_gross_negative['genres'].str.split(','))\n",
    "movies_gross_negative = movies_gross_negative.explode('genres')\n",
    "profit_by_genre_negative = movies_gross_negative.groupby('genres')['profit_adjusted'].sum().reset_index()"
   ]
  },
  {
   "cell_type": "code",
   "execution_count": null,
   "metadata": {},
   "outputs": [],
   "source": [
    "import matplotlib.ticker as ticker\n",
    "\n",
    "Losses_by_genre = profit_by_genre_negative.sort_values(by='profit_adjusted',ascending=False)\n",
    "fig, ax = plt.subplots(figsize=(24,12))\n",
    "sns.barplot(x='genres', y='profit_adjusted', data=Losses_by_genre, ax=ax)\n",
    "\n",
    "formatter = ticker.FuncFormatter(lambda x, pos: '$%1.1fB' % (x * 1e-9))\n",
    "ax.yaxis.set_major_formatter(formatter)\n",
    "ax.set_xlabel(\"Genres\", size=12)\n",
    "ax.set_ylabel(\"Losses Adjusted (USD)\", size=12)\n",
    "ax.set_title(\"Worldwide Losses by Genres (Adjusted for Inflation)\", size=15)\n",
    "ax.set_xticklabels(ax.get_xticklabels(), rotation=45)\n",
    "\n",
    "plt.savefig('Losses_by_genre.jpg', format='jpg')\n"
   ]
  },
  {
   "cell_type": "code",
   "execution_count": null,
   "metadata": {},
   "outputs": [],
   "source": [
    "# Combine the two dataframes into a single dataframe\n",
    "df = pd.merge(profit_by_genre, Losses_by_genre, on='genres', suffixes=('_profit', '_loss'))\n",
    "\n",
    "# Use the melt() function to reshape the dataframe\n",
    "df_melt = df.melt(id_vars='genres', value_vars=['profit_adjusted_profit', 'profit_adjusted_loss'], var_name='Profit/Loss', value_name='Profit/Loss_adjusted')\n",
    "\n",
    "# Create a new figure and axes for the chart\n",
    "fig, ax = plt.subplots(figsize=(24,12))\n",
    "\n",
    "# Use seaborn's barplot() function to create a stacked bar chart\n",
    "sns.barplot(x='genres', y='Profit/Loss_adjusted', hue='Profit/Loss', data=df_melt, ax=ax)\n",
    "\n",
    "# Set the labels and title\n",
    "ax.set_xlabel(\"Genres\", size=12)\n",
    "ax.set_ylabel(\"Profit/Loss Adjusted (USD)\", size=12)\n",
    "ax.set_title(\"Worldwide Profit vs Losses by Genres (Adjusted for Infation)\", size=15)\n",
    "ax.set_xticklabels(ax.get_xticklabels(), rotation=45)\n",
    "ax.legend().set_visible(False)\n",
    "\n",
    "# format the y axis\n",
    "formatter = ticker.FuncFormatter(lambda x, pos: '$%1.1fB' % (x * 1e-9))\n",
    "ax.yaxis.set_major_formatter(formatter)\n",
    "\n",
    "plt.savefig('ProfitvsLosses_by_genre_v2.jpg', format='jpg')"
   ]
  },
  {
   "cell_type": "code",
   "execution_count": null,
   "metadata": {},
   "outputs": [],
   "source": [
    "# Create a new DataFrame that contains both the profit and loss values for each genre\n",
    "genre_profit_loss = pd.DataFrame({'genres':profit_by_genre['genres'], 'profit':profit_by_genre['profit_adjusted'], 'loss':profit_by_genre_negative['profit_adjusted']})\n",
    "# Sort the DataFrame by the profit values in descending order\n",
    "genre_profit_loss = genre_profit_loss.sort_values(by='profit',ascending=False)\n",
    "\n",
    "\n",
    "# Create a new figure and axes for the chart\n",
    "fig, ax = plt.subplots(figsize=(24,12))\n",
    "\n",
    "# plot the profit bar\n",
    "sns.barplot(x='genres', y='profit', data=genre_profit_loss, label='Profit', ax=ax)\n",
    "\n",
    "# plot the loss bar\n",
    "sns.barplot(x='genres', y='loss', data=genre_profit_loss, label='Loss',color='red',ax=ax)\n",
    "\n",
    "\n",
    "# Set the labels and title\n",
    "ax.set_xlabel(\"Genres\", size=12)\n",
    "ax.set_ylabel(\"Profit/Loss Adjusted (USD)\", size=12)\n",
    "ax.set_title(\"Worldwide Profit vs Losses Adjusted by Genres\", size=15)\n",
    "ax.legend()\n",
    "ax.set_xticklabels(ax.get_xticklabels(), rotation=45)\n",
    "ax.legend().set_visible(False)\n",
    "\n",
    "# format the y axis\n",
    "formatter = ticker.FuncFormatter(lambda x, pos: '$%1.1fB' % (x * 1e-9))\n",
    "ax.yaxis.set_major_formatter(formatter)\n",
    "\n",
    "plt.savefig('ProfitvsLosses_by_genre.jpg', format='jpg')\n"
   ]
  },
  {
   "cell_type": "code",
   "execution_count": null,
   "metadata": {},
   "outputs": [],
   "source": []
  }
 ],
 "metadata": {
  "kernelspec": {
   "display_name": "learn-env",
   "language": "python",
   "name": "python3"
  },
  "language_info": {
   "codemirror_mode": {
    "name": "ipython",
    "version": 3
   },
   "file_extension": ".py",
   "mimetype": "text/x-python",
   "name": "python",
   "nbconvert_exporter": "python",
   "pygments_lexer": "ipython3",
   "version": "3.8.5"
  },
  "vscode": {
   "interpreter": {
    "hash": "c94d3b298a2db089b71080110ba5ce5685789b6b6f70cb29154f8738d90f3079"
   }
  }
 },
 "nbformat": 4,
 "nbformat_minor": 4
}
